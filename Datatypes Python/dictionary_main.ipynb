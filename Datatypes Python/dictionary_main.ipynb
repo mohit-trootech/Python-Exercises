{
 "cells": [
  {
   "cell_type": "markdown",
   "id": "5288fa16-14bc-4556-82e2-8d9d11c561e3",
   "metadata": {},
   "source": [
    "# Python Dictionary\n",
    "Dictionary, comprises an unordered collection of data stored in a key: value format. Dictionary is also\n",
    "known as \"Associative memories\" or \"Associative arrays\". In a dictionary, the key must always be unique. Whereas the\n",
    "values can be repeated and can be of any data type. The key-value pair should be represented as \"key: value\" (: colon\n",
    "is a must).\n",
    "***"
   ]
  },
  {
   "cell_type": "markdown",
   "id": "8bfffe50-4c14-4263-9850-21a6b8f33501",
   "metadata": {},
   "source": [
    "## 1. Initializing a Dictionary: lets Dictionary!"
   ]
  },
  {
   "cell_type": "code",
   "execution_count": 6,
   "id": "e8f833d0-33c2-4231-aeab-79379b21ef00",
   "metadata": {},
   "outputs": [
    {
     "name": "stdout",
     "output_type": "stream",
     "text": [
      "{'name': 'Mohit', 'age': 23, 'city': 'Ahmedabad'} <class 'dict'>\n"
     ]
    }
   ],
   "source": [
    "sample_dict1 = {\"name\":\"Mohit\", \"age\":23, \"city\":\"Ahmedabad\"}\n",
    "print(sample_dict1, type(sample_dict1))"
   ]
  },
  {
   "cell_type": "markdown",
   "id": "3132c9df-f2be-4746-9c44-2eba596736e3",
   "metadata": {},
   "source": [
    "__A Python Dictionary can be initialized using `{}`.__\n",
    "> This is Not Only Wat to Initialize a Dictionary Dictionary can be Initialized by Various Method."
   ]
  },
  {
   "cell_type": "markdown",
   "id": "d1d4dfb9-c33d-4be1-8a10-2e6d759f1c9f",
   "metadata": {},
   "source": [
    "1. Dictionary Comprehension: This allows to Create a Dictionary using For Loop. Examples Key:Key**2 Dictionary"
   ]
  },
  {
   "cell_type": "code",
   "execution_count": 3,
   "id": "995aef2a-52fa-40cb-a2b6-f9d8323020a4",
   "metadata": {},
   "outputs": [
    {
     "name": "stdout",
     "output_type": "stream",
     "text": [
      "{1: 1, 2: 4, 3: 9, 4: 16, 5: 25, 6: 36, 7: 49, 8: 64, 9: 81} <class 'dict'>\n"
     ]
    }
   ],
   "source": [
    "sample_dict2 = {i:i**2 for i in range(1, 10)}\n",
    "print(sample_dict2, type(sample_dict2))"
   ]
  },
  {
   "cell_type": "code",
   "execution_count": null,
   "id": "48354ba0-1513-430b-8fea-5c86e433aa6f",
   "metadata": {},
   "outputs": [],
   "source": []
  }
 ],
 "metadata": {
  "kernelspec": {
   "display_name": "Python 3 (ipykernel)",
   "language": "python",
   "name": "python3"
  },
  "language_info": {
   "codemirror_mode": {
    "name": "ipython",
    "version": 3
   },
   "file_extension": ".py",
   "mimetype": "text/x-python",
   "name": "python",
   "nbconvert_exporter": "python",
   "pygments_lexer": "ipython3",
   "version": "3.11.0"
  }
 },
 "nbformat": 4,
 "nbformat_minor": 5
}
